{
  "nbformat": 4,
  "nbformat_minor": 0,
  "metadata": {
    "colab": {
      "name": "image captioning.ipynb",
      "provenance": [],
      "collapsed_sections": []
    },
    "kernelspec": {
      "display_name": "Python 3",
      "language": "python",
      "name": "python3"
    },
    "language_info": {
      "codemirror_mode": {
        "name": "ipython",
        "version": 3
      },
      "file_extension": ".py",
      "mimetype": "text/x-python",
      "name": "python",
      "nbconvert_exporter": "python",
      "pygments_lexer": "ipython3",
      "version": "3.8.0"
    }
  },
  "cells": [
    {
      "cell_type": "code",
      "metadata": {
        "colab": {
          "base_uri": "https://localhost:8080/"
        },
        "id": "F9A8-J7apT35",
        "outputId": "c6533936-21f1-47b1-8732-84cd696abd84"
      },
      "source": [
        "import os\n",
        "from google.colab import drive\n",
        "drive.mount('/content/drive', force_remount=True)\n"
      ],
      "execution_count": null,
      "outputs": [
        {
          "output_type": "stream",
          "text": [
            "Go to this URL in a browser: https://accounts.google.com/o/oauth2/auth?client_id=947318989803-6bn6qk8qdgf4n4g3pfee6491hc0brc4i.apps.googleusercontent.com&redirect_uri=urn%3aietf%3awg%3aoauth%3a2.0%3aoob&scope=email%20https%3a%2f%2fwww.googleapis.com%2fauth%2fdocs.test%20https%3a%2f%2fwww.googleapis.com%2fauth%2fdrive%20https%3a%2f%2fwww.googleapis.com%2fauth%2fdrive.photos.readonly%20https%3a%2f%2fwww.googleapis.com%2fauth%2fpeopleapi.readonly%20https%3a%2f%2fwww.googleapis.com%2fauth%2fdrive.activity.readonly%20https%3a%2f%2fwww.googleapis.com%2fauth%2fexperimentsandconfigs%20https%3a%2f%2fwww.googleapis.com%2fauth%2fphotos.native&response_type=code\n",
            "\n",
            "Enter your authorization code:\n",
            "4/1AY0e-g4OxV_-HzKd5jlBZhtQk11M_eET2ifSDlDT9eQV4I1p7kK1VEvsKSo\n",
            "Mounted at /content/drive\n"
          ],
          "name": "stdout"
        }
      ]
    },
    {
      "cell_type": "code",
      "metadata": {
        "colab": {
          "base_uri": "https://localhost:8080/"
        },
        "id": "djQ452Yfq21r",
        "outputId": "8f4bdddf-c5f1-40e1-9952-f38af32abe95"
      },
      "source": [
        "os.chdir(\"/content/drive/MyDrive/flickr\")\n",
        "!ls"
      ],
      "execution_count": null,
      "outputs": [
        {
          "output_type": "stream",
          "text": [
            "caption  captions.txt  Images\n"
          ],
          "name": "stdout"
        }
      ]
    },
    {
      "cell_type": "code",
      "metadata": {
        "colab": {
          "background_save": true
        },
        "id": "M-qDLaDLpA94"
      },
      "source": [
        "%matplotlib inline\n",
        "import torch\n",
        "import torch.nn as nn\n",
        "import torch.nn.functional as F\n",
        "import torch.optim as optim\n",
        "import torch.utils.data as data\n",
        "\n",
        "\n",
        "import torchvision.datasets as datasets\n",
        "import torchvision\n",
        "\n",
        "from sklearn import metrics\n",
        "from sklearn import decomposition\n",
        "from sklearn import manifold\n",
        "import matplotlib.pyplot as plt\n",
        "import numpy as np\n",
        "\n",
        "import os\n",
        "import random\n",
        "import time"
      ],
      "execution_count": null,
      "outputs": []
    },
    {
      "cell_type": "code",
      "metadata": {
        "id": "28jnZ-IWpA99"
      },
      "source": [
        "import transformers\n",
        "\n",
        "tokenizer = transformers.BertTokenizer.from_pretrained(\"bert-base-uncased\",do_lower_case=True)"
      ],
      "execution_count": null,
      "outputs": []
    },
    {
      "cell_type": "code",
      "metadata": {
        "id": "3jQeQmxopA9-"
      },
      "source": [
        "SEED = 1234\n",
        "\n",
        "random.seed(SEED)\n",
        "np.random.seed(SEED)\n",
        "torch.manual_seed(SEED)\n",
        "torch.cuda.manual_seed(SEED)\n",
        "torch.backends.cudnn.deterministic = True"
      ],
      "execution_count": null,
      "outputs": []
    },
    {
      "cell_type": "code",
      "metadata": {
        "id": "FRZ4pMPPpA9_",
        "outputId": "a31a4bba-5b71-48e2-a256-22bb8620630c"
      },
      "source": [
        "print(os.environ.get('CUDA_LAUNCH_BLOCKING'))"
      ],
      "execution_count": null,
      "outputs": [
        {
          "output_type": "stream",
          "text": [
            "None\n"
          ],
          "name": "stdout"
        }
      ]
    },
    {
      "cell_type": "code",
      "metadata": {
        "id": "meoVmzUepA-A"
      },
      "source": [
        "os.environ['CUDA_LAUNCH_BLOCKING']='1'\n",
        "# REPLACE THESE WITH YOUR OWN KAGGLE USERNAME AND KEY\n",
        "os.environ['KAGGLE_USERNAME'] = ''\n",
        "os.environ['KAGGLE_KEY'] = ''"
      ],
      "execution_count": null,
      "outputs": []
    },
    {
      "cell_type": "code",
      "metadata": {
        "id": "-qBbdaWrpA-A",
        "outputId": "f3ce6906-da98-47b1-b69a-8ddde64e28c8"
      },
      "source": [
        "!kaggle datasets download adityajn105/flickr8k -p ./caption/\n"
      ],
      "execution_count": null,
      "outputs": [
        {
          "output_type": "stream",
          "text": [
            "/bin/bash: kaggle: command not found\r\n"
          ],
          "name": "stdout"
        }
      ]
    },
    {
      "cell_type": "code",
      "metadata": {
        "id": "f-ylqCXopA-B",
        "outputId": "013e81a8-2c95-4ac9-da19-3998acf88aec"
      },
      "source": [
        "ROOT='./caption'\n",
        "datasets.utils.extract_archive('./caption/flickr8k.zip', os.path.join(ROOT, 'flickr'))"
      ],
      "execution_count": null,
      "outputs": [
        {
          "output_type": "error",
          "ename": "FileNotFoundError",
          "evalue": "[Errno 2] No such file or directory: './caption/flickr8k.zip'",
          "traceback": [
            "\u001b[0;31m---------------------------------------------------------------------------\u001b[0m",
            "\u001b[0;31mFileNotFoundError\u001b[0m                         Traceback (most recent call last)",
            "\u001b[0;32m<ipython-input-7-f8b3e9459037>\u001b[0m in \u001b[0;36m<module>\u001b[0;34m\u001b[0m\n\u001b[1;32m      1\u001b[0m \u001b[0mROOT\u001b[0m\u001b[0;34m=\u001b[0m\u001b[0;34m'./caption'\u001b[0m\u001b[0;34m\u001b[0m\u001b[0;34m\u001b[0m\u001b[0m\n\u001b[0;32m----> 2\u001b[0;31m \u001b[0mdatasets\u001b[0m\u001b[0;34m.\u001b[0m\u001b[0mutils\u001b[0m\u001b[0;34m.\u001b[0m\u001b[0mextract_archive\u001b[0m\u001b[0;34m(\u001b[0m\u001b[0;34m'./caption/flickr8k.zip'\u001b[0m\u001b[0;34m,\u001b[0m \u001b[0mos\u001b[0m\u001b[0;34m.\u001b[0m\u001b[0mpath\u001b[0m\u001b[0;34m.\u001b[0m\u001b[0mjoin\u001b[0m\u001b[0;34m(\u001b[0m\u001b[0mROOT\u001b[0m\u001b[0;34m,\u001b[0m \u001b[0;34m'flickr'\u001b[0m\u001b[0;34m)\u001b[0m\u001b[0;34m)\u001b[0m\u001b[0;34m\u001b[0m\u001b[0;34m\u001b[0m\u001b[0m\n\u001b[0m",
            "\u001b[0;32m~/anaconda3/envs/env1/lib/python3.9/site-packages/torchvision/datasets/utils.py\u001b[0m in \u001b[0;36mextract_archive\u001b[0;34m(from_path, to_path, remove_finished)\u001b[0m\n\u001b[1;32m    231\u001b[0m             \u001b[0mout_f\u001b[0m\u001b[0;34m.\u001b[0m\u001b[0mwrite\u001b[0m\u001b[0;34m(\u001b[0m\u001b[0mzip_f\u001b[0m\u001b[0;34m.\u001b[0m\u001b[0mread\u001b[0m\u001b[0;34m(\u001b[0m\u001b[0;34m)\u001b[0m\u001b[0;34m)\u001b[0m\u001b[0;34m\u001b[0m\u001b[0;34m\u001b[0m\u001b[0m\n\u001b[1;32m    232\u001b[0m     \u001b[0;32melif\u001b[0m \u001b[0m_is_zip\u001b[0m\u001b[0;34m(\u001b[0m\u001b[0mfrom_path\u001b[0m\u001b[0;34m)\u001b[0m\u001b[0;34m:\u001b[0m\u001b[0;34m\u001b[0m\u001b[0;34m\u001b[0m\u001b[0m\n\u001b[0;32m--> 233\u001b[0;31m         \u001b[0;32mwith\u001b[0m \u001b[0mzipfile\u001b[0m\u001b[0;34m.\u001b[0m\u001b[0mZipFile\u001b[0m\u001b[0;34m(\u001b[0m\u001b[0mfrom_path\u001b[0m\u001b[0;34m,\u001b[0m \u001b[0;34m'r'\u001b[0m\u001b[0;34m)\u001b[0m \u001b[0;32mas\u001b[0m \u001b[0mz\u001b[0m\u001b[0;34m:\u001b[0m\u001b[0;34m\u001b[0m\u001b[0;34m\u001b[0m\u001b[0m\n\u001b[0m\u001b[1;32m    234\u001b[0m             \u001b[0mz\u001b[0m\u001b[0;34m.\u001b[0m\u001b[0mextractall\u001b[0m\u001b[0;34m(\u001b[0m\u001b[0mto_path\u001b[0m\u001b[0;34m)\u001b[0m\u001b[0;34m\u001b[0m\u001b[0;34m\u001b[0m\u001b[0m\n\u001b[1;32m    235\u001b[0m     \u001b[0;32melse\u001b[0m\u001b[0;34m:\u001b[0m\u001b[0;34m\u001b[0m\u001b[0;34m\u001b[0m\u001b[0m\n",
            "\u001b[0;32m~/anaconda3/envs/env1/lib/python3.9/zipfile.py\u001b[0m in \u001b[0;36m__init__\u001b[0;34m(self, file, mode, compression, allowZip64, compresslevel, strict_timestamps)\u001b[0m\n\u001b[1;32m   1237\u001b[0m             \u001b[0;32mwhile\u001b[0m \u001b[0;32mTrue\u001b[0m\u001b[0;34m:\u001b[0m\u001b[0;34m\u001b[0m\u001b[0;34m\u001b[0m\u001b[0m\n\u001b[1;32m   1238\u001b[0m                 \u001b[0;32mtry\u001b[0m\u001b[0;34m:\u001b[0m\u001b[0;34m\u001b[0m\u001b[0;34m\u001b[0m\u001b[0m\n\u001b[0;32m-> 1239\u001b[0;31m                     \u001b[0mself\u001b[0m\u001b[0;34m.\u001b[0m\u001b[0mfp\u001b[0m \u001b[0;34m=\u001b[0m \u001b[0mio\u001b[0m\u001b[0;34m.\u001b[0m\u001b[0mopen\u001b[0m\u001b[0;34m(\u001b[0m\u001b[0mfile\u001b[0m\u001b[0;34m,\u001b[0m \u001b[0mfilemode\u001b[0m\u001b[0;34m)\u001b[0m\u001b[0;34m\u001b[0m\u001b[0;34m\u001b[0m\u001b[0m\n\u001b[0m\u001b[1;32m   1240\u001b[0m                 \u001b[0;32mexcept\u001b[0m \u001b[0mOSError\u001b[0m\u001b[0;34m:\u001b[0m\u001b[0;34m\u001b[0m\u001b[0;34m\u001b[0m\u001b[0m\n\u001b[1;32m   1241\u001b[0m                     \u001b[0;32mif\u001b[0m \u001b[0mfilemode\u001b[0m \u001b[0;32min\u001b[0m \u001b[0mmodeDict\u001b[0m\u001b[0;34m:\u001b[0m\u001b[0;34m\u001b[0m\u001b[0;34m\u001b[0m\u001b[0m\n",
            "\u001b[0;31mFileNotFoundError\u001b[0m: [Errno 2] No such file or directory: './caption/flickr8k.zip'"
          ]
        }
      ]
    },
    {
      "cell_type": "code",
      "metadata": {
        "id": "89cApT1CpA-B"
      },
      "source": [
        "image_dir = f'Images/'\n",
        "csv_file = f'captions.txt'"
      ],
      "execution_count": null,
      "outputs": []
    },
    {
      "cell_type": "code",
      "metadata": {
        "id": "y5vVpVH9pA-C"
      },
      "source": [
        "import pandas as pd\n",
        "\n",
        "df = pd.read_csv(csv_file, delimiter=',')\n"
      ],
      "execution_count": null,
      "outputs": []
    },
    {
      "cell_type": "code",
      "metadata": {
        "id": "GhX0Yz89pA-C",
        "outputId": "b9a1bf18-ec14-4fba-d485-264ea776f800"
      },
      "source": [
        "df.tail()"
      ],
      "execution_count": null,
      "outputs": [
        {
          "output_type": "execute_result",
          "data": {
            "text/html": [
              "<div>\n",
              "<style scoped>\n",
              "    .dataframe tbody tr th:only-of-type {\n",
              "        vertical-align: middle;\n",
              "    }\n",
              "\n",
              "    .dataframe tbody tr th {\n",
              "        vertical-align: top;\n",
              "    }\n",
              "\n",
              "    .dataframe thead th {\n",
              "        text-align: right;\n",
              "    }\n",
              "</style>\n",
              "<table border=\"1\" class=\"dataframe\">\n",
              "  <thead>\n",
              "    <tr style=\"text-align: right;\">\n",
              "      <th></th>\n",
              "      <th>image</th>\n",
              "      <th>caption</th>\n",
              "    </tr>\n",
              "  </thead>\n",
              "  <tbody>\n",
              "    <tr>\n",
              "      <th>40450</th>\n",
              "      <td>997722733_0cb5439472.jpg</td>\n",
              "      <td>A man in a pink shirt climbs a rock face</td>\n",
              "    </tr>\n",
              "    <tr>\n",
              "      <th>40451</th>\n",
              "      <td>997722733_0cb5439472.jpg</td>\n",
              "      <td>A man is rock climbing high in the air .</td>\n",
              "    </tr>\n",
              "    <tr>\n",
              "      <th>40452</th>\n",
              "      <td>997722733_0cb5439472.jpg</td>\n",
              "      <td>A person in a red shirt climbing up a rock fac...</td>\n",
              "    </tr>\n",
              "    <tr>\n",
              "      <th>40453</th>\n",
              "      <td>997722733_0cb5439472.jpg</td>\n",
              "      <td>A rock climber in a red shirt .</td>\n",
              "    </tr>\n",
              "    <tr>\n",
              "      <th>40454</th>\n",
              "      <td>997722733_0cb5439472.jpg</td>\n",
              "      <td>A rock climber practices on a rock climbing wa...</td>\n",
              "    </tr>\n",
              "  </tbody>\n",
              "</table>\n",
              "</div>"
            ],
            "text/plain": [
              "                          image  \\\n",
              "40450  997722733_0cb5439472.jpg   \n",
              "40451  997722733_0cb5439472.jpg   \n",
              "40452  997722733_0cb5439472.jpg   \n",
              "40453  997722733_0cb5439472.jpg   \n",
              "40454  997722733_0cb5439472.jpg   \n",
              "\n",
              "                                                 caption  \n",
              "40450           A man in a pink shirt climbs a rock face  \n",
              "40451           A man is rock climbing high in the air .  \n",
              "40452  A person in a red shirt climbing up a rock fac...  \n",
              "40453                    A rock climber in a red shirt .  \n",
              "40454  A rock climber practices on a rock climbing wa...  "
            ]
          },
          "metadata": {
            "tags": []
          },
          "execution_count": 10
        }
      ]
    },
    {
      "cell_type": "code",
      "metadata": {
        "id": "sK6O8t5PpA-D",
        "outputId": "449a6480-9476-4b85-adca-c460442b06b1"
      },
      "source": [
        "df['image'].is_unique"
      ],
      "execution_count": null,
      "outputs": [
        {
          "output_type": "execute_result",
          "data": {
            "text/plain": [
              "False"
            ]
          },
          "metadata": {
            "tags": []
          },
          "execution_count": 11
        }
      ]
    },
    {
      "cell_type": "code",
      "metadata": {
        "id": "jMaBnBNkpA-D",
        "outputId": "cdfd7b62-561d-430d-d53b-a0113ba6cf7e"
      },
      "source": [
        "df.loc[df['image'] == '997722733_0cb5439472.jpg'] "
      ],
      "execution_count": null,
      "outputs": [
        {
          "output_type": "execute_result",
          "data": {
            "text/html": [
              "<div>\n",
              "<style scoped>\n",
              "    .dataframe tbody tr th:only-of-type {\n",
              "        vertical-align: middle;\n",
              "    }\n",
              "\n",
              "    .dataframe tbody tr th {\n",
              "        vertical-align: top;\n",
              "    }\n",
              "\n",
              "    .dataframe thead th {\n",
              "        text-align: right;\n",
              "    }\n",
              "</style>\n",
              "<table border=\"1\" class=\"dataframe\">\n",
              "  <thead>\n",
              "    <tr style=\"text-align: right;\">\n",
              "      <th></th>\n",
              "      <th>image</th>\n",
              "      <th>caption</th>\n",
              "    </tr>\n",
              "  </thead>\n",
              "  <tbody>\n",
              "    <tr>\n",
              "      <th>40450</th>\n",
              "      <td>997722733_0cb5439472.jpg</td>\n",
              "      <td>A man in a pink shirt climbs a rock face</td>\n",
              "    </tr>\n",
              "    <tr>\n",
              "      <th>40451</th>\n",
              "      <td>997722733_0cb5439472.jpg</td>\n",
              "      <td>A man is rock climbing high in the air .</td>\n",
              "    </tr>\n",
              "    <tr>\n",
              "      <th>40452</th>\n",
              "      <td>997722733_0cb5439472.jpg</td>\n",
              "      <td>A person in a red shirt climbing up a rock fac...</td>\n",
              "    </tr>\n",
              "    <tr>\n",
              "      <th>40453</th>\n",
              "      <td>997722733_0cb5439472.jpg</td>\n",
              "      <td>A rock climber in a red shirt .</td>\n",
              "    </tr>\n",
              "    <tr>\n",
              "      <th>40454</th>\n",
              "      <td>997722733_0cb5439472.jpg</td>\n",
              "      <td>A rock climber practices on a rock climbing wa...</td>\n",
              "    </tr>\n",
              "  </tbody>\n",
              "</table>\n",
              "</div>"
            ],
            "text/plain": [
              "                          image  \\\n",
              "40450  997722733_0cb5439472.jpg   \n",
              "40451  997722733_0cb5439472.jpg   \n",
              "40452  997722733_0cb5439472.jpg   \n",
              "40453  997722733_0cb5439472.jpg   \n",
              "40454  997722733_0cb5439472.jpg   \n",
              "\n",
              "                                                 caption  \n",
              "40450           A man in a pink shirt climbs a rock face  \n",
              "40451           A man is rock climbing high in the air .  \n",
              "40452  A person in a red shirt climbing up a rock fac...  \n",
              "40453                    A rock climber in a red shirt .  \n",
              "40454  A rock climber practices on a rock climbing wa...  "
            ]
          },
          "metadata": {
            "tags": []
          },
          "execution_count": 12
        }
      ]
    },
    {
      "cell_type": "code",
      "metadata": {
        "id": "ROIf4XgepA-E"
      },
      "source": [
        "g = df.groupby([\"image\"]).cumcount().add(1)\n",
        "df = df.set_index([\"image\", g]).unstack(fill_value=0).sort_index(axis=1, level=1)\n",
        "df.columns = [\"{}{}\".format(a, b) for a, b in df.columns]\n",
        "\n",
        "df = df.reset_index()"
      ],
      "execution_count": null,
      "outputs": []
    },
    {
      "cell_type": "code",
      "metadata": {
        "id": "j81xLW88pA-E"
      },
      "source": [
        "df['image'] = image_dir+'/'+df['image']\n",
        "df.rename(columns = {'image':'image_name'}, inplace = True)"
      ],
      "execution_count": null,
      "outputs": []
    },
    {
      "cell_type": "code",
      "metadata": {
        "id": "UweeFo8zpA-E",
        "outputId": "86b2f822-7ed9-496f-87d7-8985f61931f1"
      },
      "source": [
        "df.head()"
      ],
      "execution_count": null,
      "outputs": [
        {
          "output_type": "execute_result",
          "data": {
            "text/html": [
              "<div>\n",
              "<style scoped>\n",
              "    .dataframe tbody tr th:only-of-type {\n",
              "        vertical-align: middle;\n",
              "    }\n",
              "\n",
              "    .dataframe tbody tr th {\n",
              "        vertical-align: top;\n",
              "    }\n",
              "\n",
              "    .dataframe thead th {\n",
              "        text-align: right;\n",
              "    }\n",
              "</style>\n",
              "<table border=\"1\" class=\"dataframe\">\n",
              "  <thead>\n",
              "    <tr style=\"text-align: right;\">\n",
              "      <th></th>\n",
              "      <th>image_name</th>\n",
              "      <th>caption1</th>\n",
              "      <th>caption2</th>\n",
              "      <th>caption3</th>\n",
              "      <th>caption4</th>\n",
              "      <th>caption5</th>\n",
              "    </tr>\n",
              "  </thead>\n",
              "  <tbody>\n",
              "    <tr>\n",
              "      <th>0</th>\n",
              "      <td>Images//1000268201_693b08cb0e.jpg</td>\n",
              "      <td>A child in a pink dress is climbing up a set o...</td>\n",
              "      <td>A girl going into a wooden building .</td>\n",
              "      <td>A little girl climbing into a wooden playhouse .</td>\n",
              "      <td>A little girl climbing the stairs to her playh...</td>\n",
              "      <td>A little girl in a pink dress going into a woo...</td>\n",
              "    </tr>\n",
              "    <tr>\n",
              "      <th>1</th>\n",
              "      <td>Images//1001773457_577c3a7d70.jpg</td>\n",
              "      <td>A black dog and a spotted dog are fighting</td>\n",
              "      <td>A black dog and a tri-colored dog playing with...</td>\n",
              "      <td>A black dog and a white dog with brown spots a...</td>\n",
              "      <td>Two dogs of different breeds looking at each o...</td>\n",
              "      <td>Two dogs on pavement moving toward each other .</td>\n",
              "    </tr>\n",
              "    <tr>\n",
              "      <th>2</th>\n",
              "      <td>Images//1002674143_1b742ab4b8.jpg</td>\n",
              "      <td>A little girl covered in paint sits in front o...</td>\n",
              "      <td>A little girl is sitting in front of a large p...</td>\n",
              "      <td>A small girl in the grass plays with fingerpai...</td>\n",
              "      <td>There is a girl with pigtails sitting in front...</td>\n",
              "      <td>Young girl with pigtails painting outside in t...</td>\n",
              "    </tr>\n",
              "    <tr>\n",
              "      <th>3</th>\n",
              "      <td>Images//1003163366_44323f5815.jpg</td>\n",
              "      <td>A man lays on a bench while his dog sits by him .</td>\n",
              "      <td>A man lays on the bench to which a white dog i...</td>\n",
              "      <td>a man sleeping on a bench outside with a white...</td>\n",
              "      <td>A shirtless man lies on a park bench with his ...</td>\n",
              "      <td>man laying on bench holding leash of dog sitti...</td>\n",
              "    </tr>\n",
              "    <tr>\n",
              "      <th>4</th>\n",
              "      <td>Images//1007129816_e794419615.jpg</td>\n",
              "      <td>A man in an orange hat starring at something .</td>\n",
              "      <td>A man wears an orange hat and glasses .</td>\n",
              "      <td>A man with gauges and glasses is wearing a Bli...</td>\n",
              "      <td>A man with glasses is wearing a beer can croch...</td>\n",
              "      <td>The man with pierced ears is wearing glasses a...</td>\n",
              "    </tr>\n",
              "  </tbody>\n",
              "</table>\n",
              "</div>"
            ],
            "text/plain": [
              "                          image_name  \\\n",
              "0  Images//1000268201_693b08cb0e.jpg   \n",
              "1  Images//1001773457_577c3a7d70.jpg   \n",
              "2  Images//1002674143_1b742ab4b8.jpg   \n",
              "3  Images//1003163366_44323f5815.jpg   \n",
              "4  Images//1007129816_e794419615.jpg   \n",
              "\n",
              "                                            caption1  \\\n",
              "0  A child in a pink dress is climbing up a set o...   \n",
              "1         A black dog and a spotted dog are fighting   \n",
              "2  A little girl covered in paint sits in front o...   \n",
              "3  A man lays on a bench while his dog sits by him .   \n",
              "4     A man in an orange hat starring at something .   \n",
              "\n",
              "                                            caption2  \\\n",
              "0              A girl going into a wooden building .   \n",
              "1  A black dog and a tri-colored dog playing with...   \n",
              "2  A little girl is sitting in front of a large p...   \n",
              "3  A man lays on the bench to which a white dog i...   \n",
              "4            A man wears an orange hat and glasses .   \n",
              "\n",
              "                                            caption3  \\\n",
              "0   A little girl climbing into a wooden playhouse .   \n",
              "1  A black dog and a white dog with brown spots a...   \n",
              "2  A small girl in the grass plays with fingerpai...   \n",
              "3  a man sleeping on a bench outside with a white...   \n",
              "4  A man with gauges and glasses is wearing a Bli...   \n",
              "\n",
              "                                            caption4  \\\n",
              "0  A little girl climbing the stairs to her playh...   \n",
              "1  Two dogs of different breeds looking at each o...   \n",
              "2  There is a girl with pigtails sitting in front...   \n",
              "3  A shirtless man lies on a park bench with his ...   \n",
              "4  A man with glasses is wearing a beer can croch...   \n",
              "\n",
              "                                            caption5  \n",
              "0  A little girl in a pink dress going into a woo...  \n",
              "1    Two dogs on pavement moving toward each other .  \n",
              "2  Young girl with pigtails painting outside in t...  \n",
              "3  man laying on bench holding leash of dog sitti...  \n",
              "4  The man with pierced ears is wearing glasses a...  "
            ]
          },
          "metadata": {
            "tags": []
          },
          "execution_count": 15
        }
      ]
    },
    {
      "cell_type": "code",
      "metadata": {
        "id": "CxbS2NEvpA-E"
      },
      "source": [
        ""
      ],
      "execution_count": null,
      "outputs": []
    },
    {
      "cell_type": "code",
      "metadata": {
        "id": "AR0Lc16SpA-F",
        "outputId": "f6b47cd0-16d3-4a0a-9f67-1646146c7e9a"
      },
      "source": [
        "from sklearn.model_selection import train_test_split\n",
        "\n",
        "## Obtain Train and Test Split \n",
        "train, test = train_test_split(df, test_size=0.2, random_state=42)\n",
        "\n",
        "## Reset Indexes \n",
        "train = train.reset_index(drop=True)\n",
        "test = test.reset_index(drop=True)\n",
        "\n",
        "## Obtain Train and Validation Split \n",
        "train, val = train_test_split(train, test_size=0.25, random_state=42)\n",
        "\n",
        "## Reset Indexes \n",
        "train = train.reset_index(drop=True)\n",
        "val = val.reset_index(drop=True)\n",
        "\n",
        "## Let's see how many entries we have\n",
        "print(train.shape)\n",
        "print(val.shape)\n",
        "print(test.shape)"
      ],
      "execution_count": null,
      "outputs": [
        {
          "output_type": "stream",
          "text": [
            "(4854, 6)\n",
            "(1618, 6)\n",
            "(1619, 6)\n"
          ],
          "name": "stdout"
        }
      ]
    },
    {
      "cell_type": "code",
      "metadata": {
        "id": "12AExtk7pA-F",
        "outputId": "58d3a184-8356-454f-f434-97fe018c482c"
      },
      "source": [
        "device = torch.device('cuda:0' if torch.cuda.is_available() else 'cpu')"
      ],
      "execution_count": null,
      "outputs": [
        {
          "output_type": "stream",
          "text": [
            "/home/sudip/anaconda3/envs/env1/lib/python3.9/site-packages/torch/cuda/__init__.py:52: UserWarning: CUDA initialization: CUDA unknown error - this may be due to an incorrectly set up environment, e.g. changing env variable CUDA_VISIBLE_DEVICES after program start. Setting the available devices to be zero. (Triggered internally at  /pytorch/c10/cuda/CUDAFunctions.cpp:100.)\n",
            "  return torch._C._cuda_getDeviceCount() > 0\n"
          ],
          "name": "stderr"
        }
      ]
    },
    {
      "cell_type": "code",
      "metadata": {
        "id": "-xclakg_pA-F"
      },
      "source": [
        "from torchvision import transforms as CVtransforms\n",
        "from PIL import Image\n",
        "\n",
        "\n",
        "class FlickrDataset(torch.utils.data.Dataset):\n",
        "    \n",
        "    def __init__(self, df, \n",
        "                 transforms= None) -> None:\n",
        "        self.df = df\n",
        "        self.transforms = CVtransforms.Compose([\n",
        "            CVtransforms.Resize((256,256)),\n",
        "            CVtransforms.ToTensor(),\n",
        "            CVtransforms.Normalize(mean = [0.5], std = [0.5]),\n",
        "            \n",
        "        ])\n",
        "        \n",
        "    def __len__(self) -> int:\n",
        "        return len(self.df)\n",
        "    \n",
        "    def __getitem__(self, idx: int):\n",
        "        \n",
        "        image_id = self.df.image_name.values[idx]\n",
        "        image = Image.open(image_id).convert('RGB')\n",
        "        #print(image_id)\n",
        "        #print(type(image))\n",
        "        if self.transforms is not None:\n",
        "            image = self.transforms(image)\n",
        "            \n",
        "        comments = self.df[self.df.image_name == image_id].values.tolist()[0][1:][0] # Last zero is to obtain the first caption ONLY\n",
        "        encoded_inputs = tokenizer(comments,\n",
        "                                   return_token_type_ids = False, \n",
        "                                   return_attention_mask = False, \n",
        "                                   max_length = 100, \n",
        "                                   padding = \"max_length\",\n",
        "                                  return_tensors = \"pt\")\n",
        "        \n",
        "        sample = {\"image\":image,\"captions\": encoded_inputs[\"input_ids\"].flatten()}\n",
        "        \n",
        "        return sample"
      ],
      "execution_count": null,
      "outputs": []
    },
    {
      "cell_type": "code",
      "metadata": {
        "id": "O2YTq4D4pA-G"
      },
      "source": [
        "batch_size = 32\n",
        "\n",
        "train_dataset = FlickrDataset(train, transforms = True)\n",
        "train_dataloader = torch.utils.data.DataLoader(train_dataset, batch_size = batch_size, drop_last=True)\n",
        "\n",
        "val_dataset = FlickrDataset(val, transforms = True)\n",
        "val_dataloader = torch.utils.data.DataLoader(val_dataset, batch_size = batch_size,drop_last=True)\n",
        "\n",
        "test_dataset = FlickrDataset(test, transforms = True)\n",
        "test_dataloader = torch.utils.data.DataLoader(test_dataset, batch_size = batch_size,drop_last=True)"
      ],
      "execution_count": null,
      "outputs": []
    },
    {
      "cell_type": "code",
      "metadata": {
        "id": "hZtADGA_pA-G"
      },
      "source": [
        "from torchvision import models\n",
        "\n",
        "class CNN(nn.Module):\n",
        "    def __init__(self, embed_size):\n",
        "        super(CNN, self).__init__()\n",
        "        resnet = models.resnet50(pretrained=True)\n",
        "        for param in resnet.parameters():\n",
        "            param.requires_grad_(False)\n",
        "        \n",
        "        modules = list(resnet.children())[:-1]\n",
        "        self.resnet = nn.Sequential(*modules)\n",
        "        self.embed = nn.Linear(resnet.fc.in_features, embed_size)\n",
        "\n",
        "    def forward(self, images):\n",
        "        features = self.resnet(images)\n",
        "        features = features.view(features.size(0), -1)\n",
        "        features = self.embed(features)\n",
        "        return features"
      ],
      "execution_count": null,
      "outputs": []
    },
    {
      "cell_type": "code",
      "metadata": {
        "id": "KCuHnWGlpA-G"
      },
      "source": [
        "import torch.nn.functional as F\n",
        "\n",
        "class RNN(nn.Module):\n",
        "    def __init__(self, embed_size, hidden_size, vocab_size):\n",
        "        ''' Initialize the layers of this model.'''\n",
        "        super().__init__()\n",
        "    \n",
        "        self.hidden_size = hidden_size\n",
        "        self.word_embeddings = nn.Embedding(vocab_size, embed_size)\n",
        "        self.lstm = nn.LSTM(input_size=embed_size, \\\n",
        "                            hidden_size=hidden_size,\n",
        "                            num_layers=1,\n",
        "                            bias=True,\n",
        "                            batch_first=True, \n",
        "                            dropout=0, \n",
        "                            bidirectional=False,\n",
        "                           )\n",
        "        \n",
        "        self.vocab_size = vocab_size\n",
        "        self.linear = nn.Linear(hidden_size, vocab_size)                     \n",
        "\n",
        "    def init_hidden(self, batch_size):\n",
        "        return (torch.zeros((1, batch_size, self.hidden_size), device=device), \\\n",
        "                torch.zeros((1, batch_size, self.hidden_size), device=device))\n",
        "\n",
        "    def forward(self, features, captions):\n",
        "        \"\"\" Define the feedforward behavior of the model \"\"\"\n",
        "        captions = captions[:, :-1]     \n",
        "        self.batch_size = features.shape[0]\n",
        "        self.hidden = self.init_hidden(self.batch_size) \n",
        "        embeddings = self.word_embeddings(captions)\n",
        "        \n",
        "        embeddings = torch.cat((features.unsqueeze(1), embeddings), dim=1)\n",
        "        lstm_out, self.hidden = self.lstm(embeddings, self.hidden) \n",
        "        outputs = self.linear(lstm_out)\n",
        "\n",
        "        return outputs\n",
        "\n",
        "    ## Greedy search \n",
        "    def sample(self, inputs):\n",
        "        \" accepts pre-processed image tensor (inputs) and returns predicted sentence (list of tensor ids of length max_len) \"\n",
        "        \n",
        "        \n",
        "        output = []\n",
        "        batch_size = inputs.shape[0]\n",
        "        hidden = self.init_hidden(batch_size) \n",
        "    \n",
        "        while True:\n",
        "            outputs, hidden = self.get_outputs(inputs, hidden) \n",
        "            _, max_index = torch.max(outputs, dim=1)\n",
        "            output.append(max_index.cpu().numpy()[0].item())\n",
        "            if (tokenizer.convert_ids_to_tokens([max_index])[0] == '[PAD]' or tokenizer.convert_ids_to_tokens([max_index])[0] == '[UNK]'  ):\n",
        "                break\n",
        "            \n",
        "            inputs = self.get_next_word_input(max_index)\n",
        "            \n",
        "        return output\n",
        "    \n",
        "    \n",
        "    def modified_beam_search(self, inputs, beams = 2, topk=3):\n",
        "        batch_size = inputs.shape[0]\n",
        "        hidden = self.init_hidden(batch_size)\n",
        "        probDic=dict()\n",
        "        indexDic=dict()\n",
        "        hiddenDic=dict()\n",
        "        \n",
        "        output = []\n",
        "        outputs, hidden = self.get_outputs(inputs, hidden)\n",
        "        _,max_index = torch.max(outputs, dim=1)\n",
        "        output.append(max_index.cpu().numpy()[0].item())\n",
        "        inputs = self.get_next_word_input(max_index)\n",
        "        \n",
        "        for b in range(beams):\n",
        "            #print('input shape ',b,\" \",inputs.shape)\n",
        "            outputs, hidden = self.get_outputs(inputs, hidden)\n",
        "            #print('outputs shape ',b,\" \",outputs.shape)\n",
        "            if(len(outputs.size())>2):\n",
        "                outputs = torch.squeeze(outputs)\n",
        "            logits, max_indices = torch.topk(outputs,k=topk, dim=1)\n",
        "            \n",
        "            #print('logits shape ',b,\" \",logits.shape)\n",
        "            #print('maxindices shape ',b,\" \",max_indices.shape)\n",
        "            probDic[b] = torch.squeeze(F.softmax(logits,dim=1))\n",
        "            indexDic[b] = torch.squeeze(max_indices)\n",
        "            hiddenDic[b] = hidden\n",
        "            inputs = self.get_next_word_input(max_indices)\n",
        "        \n",
        "        for i in range(len(probDic)-1):\n",
        "            dimlst = [topk]*(i+2)\n",
        "            sz = probDic[i+1].size()\n",
        "            probDic[i+1] = (probDic[i+1].view(dimlst)*(probDic[i].view([topk]*(i+1)+[1]))).view(sz)\n",
        "        \n",
        "        for i in range(len(probDic)-1,0,-1):\n",
        "            probDic[i-1]=probDic[i-1]*(torch.max(probDic[i],dim=1)[0]).view(probDic[i-1].size())\n",
        "        \n",
        "        \n",
        "        lastInd=torch.Tensor([])\n",
        "        for i in range(len(probDic)):\n",
        "            arg = torch.argmax(probDic[i])\n",
        "            idxarg = None\n",
        "            if i==0:\n",
        "                idxarg = [arg//topk]\n",
        "            else:\n",
        "                idxarg= [arg//topk,arg%topk]\n",
        "            \n",
        "            if i==len(probDic)-1:\n",
        "                lastInd = indexDic[i][idxarg]\n",
        "            output.append(indexDic[i][idxarg].cpu().numpy().item())\n",
        "        \n",
        "        \n",
        "        inputs = self.get_next_word_input(torch.unsqueeze(lastInd,0))\n",
        "        hidden = hiddenDic[beams-1]\n",
        "        \n",
        "        \n",
        "        while True:\n",
        "            outputs, hidden = self.get_outputs(inputs, hidden) \n",
        "            _, max_index = torch.max(outputs, dim=1)\n",
        "            output.append(max_index.cpu().numpy()[0].item())\n",
        "            \n",
        "            if (tokenizer.convert_ids_to_tokens([max_index])[0] == '[PAD]' or tokenizer.convert_ids_to_tokens([max_index])[0] == '[UNK]'  ):\n",
        "                break\n",
        "            \n",
        "            inputs = self.get_next_word_input(max_index)\n",
        "            \n",
        "        return output\n",
        "        \n",
        "    def get_outputs(self, inputs, hidden):\n",
        "        lstm_out, hidden = self.lstm(inputs, hidden) # lstm_out shape : (1, 1, hidden_size)\n",
        "        outputs = self.linear(lstm_out)  # outputs shape : (1, 1, vocab_size)\n",
        "        outputs = outputs.squeeze(1) # outputs shape : (1, vocab_size)\n",
        "\n",
        "        return outputs, hidden\n",
        "\n",
        "    def get_next_word_input(self, max_indice):\n",
        "        ## Prepare to embed the last predicted word to be the new input of the lstm\n",
        "        if max_indice.size()[0]>1:\n",
        "            max_indice = max_indice.view((1,max_indice.size()[0]*max_indice.size()[1]))\n",
        "            \n",
        "        inputs = self.word_embeddings(max_indice) # inputs shape : (1, embed_size)\n",
        "        if len(inputs.size())<3:\n",
        "            inputs = inputs.unsqueeze(1) # inputs shape : (1, 1, embed_size)\n",
        "        \n",
        "        return inputs"
      ],
      "execution_count": null,
      "outputs": []
    },
    {
      "cell_type": "code",
      "metadata": {
        "id": "5PATJR9EpA-G",
        "outputId": "66ccd9d3-4961-4e53-e4a9-9ab73e77f166"
      },
      "source": [
        "\n",
        "\n",
        "example_batch = next(iter(train_dataloader))\n",
        "\n",
        "image, captions = example_batch[\"image\"], example_batch[\"captions\"]\n",
        "image, captions = image.to(device), captions.to(device)\n",
        "\n",
        "encoder = CNN(embed_size = 512).to(device)\n",
        "decoder = RNN(embed_size=512, hidden_size = 512, vocab_size = 40000).to(device)\n",
        "\n",
        "features = encoder(image)\n",
        "\n",
        "embed = decoder(features, captions)\n",
        "\n",
        "print(\"Image Transformation: \", image.shape, \" --> \", features.shape)\n",
        "print(\"Captions Transformation: \", captions.shape, \" --> \", embed.shape)"
      ],
      "execution_count": null,
      "outputs": [
        {
          "output_type": "stream",
          "text": [
            "Image Transformation:  torch.Size([32, 3, 256, 256])  -->  torch.Size([32, 512])\n",
            "Captions Transformation:  torch.Size([32, 100])  -->  torch.Size([32, 100, 40000])\n"
          ],
          "name": "stdout"
        }
      ]
    },
    {
      "cell_type": "code",
      "metadata": {
        "id": "wVDVbdKKpA-G"
      },
      "source": [
        "%%capture\n",
        "\n",
        "vocab_size = 60000\n",
        "steps_per_epoch = 19069 // 32\n",
        "\n",
        "encoder = CNN(embed_size = 512).to(device)\n",
        "decoder = RNN(embed_size=512, hidden_size = 512, vocab_size = vocab_size).to(device)\n",
        "\n",
        "criterion = nn.CrossEntropyLoss().to(device)\n",
        "params = list(decoder.parameters()) + list(encoder.embed.parameters())\n",
        "\n",
        "optimizer = torch.optim.Adam(params, lr=0.001)"
      ],
      "execution_count": null,
      "outputs": []
    },
    {
      "cell_type": "code",
      "metadata": {
        "id": "2GtPf1ffpA-H",
        "outputId": "6c218f7c-a2a7-4d06-ed26-6200103c4f6b"
      },
      "source": [
        "\n",
        "for epoch in range(10):\n",
        "    for idx, sample in enumerate(train_dataloader):\n",
        "        if idx > steps_per_epoch:\n",
        "            break\n",
        "        \n",
        "        image, captions = torch.tensor(sample['image']).to(device), torch.tensor(sample['captions']).to(device)\n",
        "        \n",
        "        # zero the parameter gradients\n",
        "        decoder.zero_grad()\n",
        "        encoder.zero_grad()\n",
        "        \n",
        "        # Forward pass\n",
        "        features = encoder(image)\n",
        "        outputs = decoder(features, captions)\n",
        "        \n",
        "        # Compute the Loss\n",
        "        loss = criterion(outputs.view(-1, vocab_size), \n",
        "                         captions.view(-1))\n",
        "        \n",
        "        # Backward pass.\n",
        "        loss.backward()\n",
        "        \n",
        "        # Update the parameters in the optimizer.\n",
        "        optimizer.step()\n",
        "            \n",
        "        # Get training statistics.\n",
        "        if(idx%200 == 0):\n",
        "            stats = 'Epoch [%d], Loss: %.4f' % (epoch, loss.item())\n",
        "            print('\\r' + stats, end=\"\")"
      ],
      "execution_count": null,
      "outputs": [
        {
          "output_type": "stream",
          "text": [
            "<ipython-input-25-d41b63755e0c>:6: UserWarning: To copy construct from a tensor, it is recommended to use sourceTensor.clone().detach() or sourceTensor.clone().detach().requires_grad_(True), rather than torch.tensor(sourceTensor).\n",
            "  image, captions = torch.tensor(sample['image']).to(device), torch.tensor(sample['captions']).to(device)\n"
          ],
          "name": "stderr"
        },
        {
          "output_type": "stream",
          "text": [
            "Epoch [9], Loss: 0.23494"
          ],
          "name": "stdout"
        }
      ]
    },
    {
      "cell_type": "code",
      "metadata": {
        "id": "lEsgZdBepA-H"
      },
      "source": [
        "rand = np.random.randint(0,1000)\n",
        "enc_path = f'./caption/encoder.pth'\n",
        "dec_path = f'./caption/decoder.pth'\n",
        "\n",
        "\n",
        "torch.save(encoder.state_dict(), enc_path)\n",
        "torch.save(decoder.state_dict(), dec_path)"
      ],
      "execution_count": null,
      "outputs": []
    },
    {
      "cell_type": "code",
      "metadata": {
        "id": "s0IjVRMxpA-H",
        "outputId": "b81a6811-0622-4839-b9c6-d60d8181a809"
      },
      "source": [
        "encoder = CNN(embed_size = 512).to(device)\n",
        "decoder = RNN(embed_size=512, hidden_size = 512, vocab_size = vocab_size).to(device)\n",
        "\n",
        "enc_path = f'./caption/encoder.pth'\n",
        "dec_path = f'./caption/decoder.pth'\n",
        "\n",
        "\n",
        "encoder.load_state_dict(torch.load(enc_path))\n",
        "encoder.eval()\n",
        "decoder.load_state_dict(torch.load(dec_path))\n",
        "decoder.eval()"
      ],
      "execution_count": null,
      "outputs": [
        {
          "output_type": "execute_result",
          "data": {
            "text/plain": [
              "RNN(\n",
              "  (word_embeddings): Embedding(60000, 512)\n",
              "  (lstm): LSTM(512, 512, batch_first=True)\n",
              "  (linear): Linear(in_features=512, out_features=60000, bias=True)\n",
              ")"
            ]
          },
          "metadata": {
            "tags": []
          },
          "execution_count": 32
        }
      ]
    },
    {
      "cell_type": "code",
      "metadata": {
        "id": "5LQUyxKKpA-I",
        "outputId": "b46c5307-7ebe-4eae-ad04-2192c73d5d66"
      },
      "source": [
        "from matplotlib import cm\n",
        "import re\n",
        "\n",
        "pattern = r'\\[.*?\\]'\n",
        "example_batch = next(iter(test_dataloader))\n",
        "\n",
        "idx = 22\n",
        "\n",
        "def format_output(token_lst):\n",
        "    string = \" \".join([ i if i[0]!='[' else '' for i in tokenizer.convert_ids_to_tokens(token_lst)])\n",
        "    return string\n",
        "\n",
        "image, caption = example_batch[\"image\"][idx], example_batch[\"captions\"][idx]\n",
        "PILtransf =  CVtransforms.ToPILImage()\n",
        "print(format_output(caption))\n",
        "plt.imshow(PILtransf(image).convert('RGB'))\n",
        "image, caption = image.to(device), caption.to(device)\n",
        "\n",
        "# image = Image.open('./caption/sample/dog_on_road.jpg')\n",
        "# plt.imshow(image)\n",
        "\n",
        "# sampleTransforms = CVtransforms.Compose([\n",
        "#             CVtransforms.Resize((256,256)),\n",
        "#             CVtransforms.ToTensor(),\n",
        "#             CVtransforms.Normalize(mean = [0.5], std = [0.5]),\n",
        "            \n",
        "#         ])\n",
        "\n",
        "# image = sampleTransforms(image)\n",
        "\n",
        "\n",
        "\n",
        "\n",
        "image = image.to(device)\n",
        "with torch.no_grad():\n",
        "    features = encoder(torch.unsqueeze(image,0)).unsqueeze(1)\n",
        "    #output = decoder.sample(features)\n",
        "    output = decoder.modified_beam_search(features,beams=3)\n",
        "    \n",
        "#print(probdic)\n",
        "print(output)\n",
        "#print(tokenizer.convert_ids_to_tokens(output))\n",
        "print(f'predicted: {format_output(output)}')"
      ],
      "execution_count": null,
      "outputs": [
        {
          "output_type": "stream",
          "text": [
            " a big dog chases a little dog on the grass .                                                                                        \n",
            "[101, 1037, 2829, 3899, 1999, 1996, 5568, 1012, 102, 0]\n",
            "predicted:  a brown dog in the grass .  \n"
          ],
          "name": "stdout"
        },
        {
          "output_type": "display_data",
          "data": {
            "image/png": "[encoded data removed]",
            "text/plain": [
              "<Figure size 432x288 with 1 Axes>"
            ]
          },
          "metadata": {
            "tags": []
          }
        }
      ]
    }
  ]
}